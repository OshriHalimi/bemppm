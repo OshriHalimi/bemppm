{
 "cells": [
  {
   "cell_type": "markdown",
   "metadata": {},
   "source": [
    "# Grids in BEM++"
   ]
  },
  {
   "cell_type": "markdown",
   "metadata": {},
   "source": [
    "This tutorial demonstrates basic features of dealing with grids in BEM++. Simple grids can be easily created using built-in commands. More complicated grids can be imported in the Gmsh format."
   ]
  },
  {
   "cell_type": "markdown",
   "metadata": {},
   "source": [
    "## Creation of basic grid objects"
   ]
  },
  {
   "cell_type": "markdown",
   "metadata": {},
   "source": [
    "Let us create our first grid, a simple regular sphere."
   ]
  },
  {
   "cell_type": "code",
   "execution_count": 5,
   "metadata": {
    "collapsed": false
   },
   "outputs": [],
   "source": [
    "import bempp.api\n",
    "grid = bempp.api.shapes.regular_sphere(3)"
   ]
  },
  {
   "cell_type": "markdown",
   "metadata": {},
   "source": [
    "The command `regular_sphere` creates a sphere by refining a base octahedron. The number of elements in the sphere is given by `nelements = 8 * 4**n`, where `n` is the refinement level. We can plot the grid with the following command."
   ]
  },
  {
   "cell_type": "code",
   "execution_count": 6,
   "metadata": {
    "collapsed": true
   },
   "outputs": [],
   "source": [
    "grid.plot()"
   ]
  },
  {
   "cell_type": "markdown",
   "metadata": {},
   "source": [
    "This uses `Gmsh` to plot the grid externally. In order to work please make sure that `Gmsh` is installed and the command `gmsh` is available in the path. The following picture shows the sphere. <img src=\"https://raw.githubusercontent.com/bempp/bempp/development/examples/basic_concepts/sphere.png\">"
   ]
  },
  {
   "cell_type": "markdown",
   "metadata": {},
   "source": [
    "Another way to create a sphere is by specifying the width of the elements. The command\n",
    "\n",
    "    grid = bempp.api.shapes.sphere(h=0.1)\n",
    "    \n",
    "will create an unstructured spherical grid with a grid size of roughly 0.1. Note that in order for this command to succeed `Gmsh` as grid generator must be installed. The `shapes` module contains functions for spheres, ellipsoids, cubes and the Nasa almond shape.\n",
    "\n",
    "Sometimes, it is desired to create a regular structured 2d grid (such as a screen). For this BEM++ offers the functino `bempp.api.structured_grid`. The help text of this function gives more detail on its use."
   ]
  },
  {
   "cell_type": "markdown",
   "metadata": {},
   "source": [
    "## Creating grids from connectivity data"
   ]
  },
  {
   "cell_type": "markdown",
   "metadata": {},
   "source": [
    "Quite often a grid is given in the form of connectivity data, that is an array containing the nodes and another array containing the element defintions from the nodes. Consider the following definition of vertices.\n",
    "\n",
    "    vertices = np.array([[0,1,1,0],\n",
    "                         [0,0,1,1],\n",
    "                         [0,0,0,0]])\n",
    "                        \n",
    "The array `vertices` contains the (x,y,z) coordinates of the four vertices of the unit square in the x-y plane.\n",
    "\n",
    "We now define two elements by specifiying how the vertices are connected.\n",
    "\n",
    "    elements = np.array([[0,1],\n",
    "                         [1,2],\n",
    "                         [3,3]])\n",
    "\n",
    "The first element connects the vertices 0, 1 and 3. The second element connects the vertices 1, 2 and 3. To create a grid from these two elements we simply call the following command.\n",
    "\n",
    "    grid = bempp.api.grid_from_element_data(vertices,elements)\n",
    "    \n",
    "**Please note that BEM++ assumes that each element is defined such that the normal direction obtained with the right-hand rule is outward pointing.** Elements with inward pointing normals can easily be a source for errrors in computations. Normal directions can be visually checked for example by loading a mesh in `Gmsh` and displaying the normals.\n",
    "\n",
    "Also, **it is not guaranteed that elements are stored in the grid object using the same numbering as during insertion.** Further down we will explain this in detail. To find out the insertion index of a vertex or an element the methods `grid.vertex_insertion_index` and `grid.element_insertion_index` are provided."
   ]
  },
  {
   "cell_type": "markdown",
   "metadata": {},
   "source": [
    "## Importing mesh data"
   ]
  },
  {
   "cell_type": "code",
   "execution_count": 9,
   "metadata": {
    "collapsed": false
   },
   "outputs": [],
   "source": [
    "from bempp.grid import grid_from_sphere\n",
    "from bempp import function_space\n",
    "\n",
    "grid = grid_from_sphere(2)\n",
    "pw_constant = function_space(grid, \"DP\", 0)\n",
    "pw_linear = function_space(grid, \"P\", 1)"
   ]
  },
  {
   "cell_type": "markdown",
   "metadata": {},
   "source": [
    "Alternatively, a grid can be created from data using ``bempp.grid.grid_from_element_data`` or from a ``.msh`` file using ``bempp.import_grid``. For more information, run:\n",
    "\n",
    "    from bempp.grid import grid_from_element_data\n",
    "    help(grid_from_element_data)\n",
    "    \n",
    "or:\n",
    "\n",
    "    from bempp import import_grid\n",
    "    help(import_grid)\n",
    "    "
   ]
  },
  {
   "cell_type": "markdown",
   "metadata": {},
   "source": [
    "## Using the Grid"
   ]
  },
  {
   "cell_type": "markdown",
   "metadata": {},
   "source": [
    "First, we'll print the number of entities of the grid. ``entity_count`` takes the codimension as its input."
   ]
  },
  {
   "cell_type": "code",
   "execution_count": 3,
   "metadata": {
    "collapsed": false
   },
   "outputs": [
    {
     "name": "stdout",
     "output_type": "stream",
     "text": [
      "Number of zero dimensional entities (vertices): 66\n",
      "Number of one dimensional entities (edges): 192\n",
      "Number of two dimensional entities (triangles): 128\n"
     ]
    }
   ],
   "source": [
    "print(\"Number of zero dimensional entities (vertices): %s\" % grid.leaf_view.entity_count(2))\n",
    "print(\"Number of one dimensional entities (edges): %s\" % grid.leaf_view.entity_count(1))\n",
    "print(\"Number of two dimensional entities (triangles): %s\" % grid.leaf_view.entity_count(0))"
   ]
  },
  {
   "cell_type": "markdown",
   "metadata": {},
   "source": [
    "If ``gmsh`` is installed, we can plot the grid. This will open in a seperate window."
   ]
  },
  {
   "cell_type": "code",
   "execution_count": 4,
   "metadata": {
    "collapsed": false
   },
   "outputs": [],
   "source": [
    "grid.plot()"
   ]
  },
  {
   "cell_type": "markdown",
   "metadata": {},
   "source": [
    "We can iterate over the grid using the ``entity_iterator``. Let's print the co-ordinates of each grid point with x-coordinate 0 and a positive y-coordinate."
   ]
  },
  {
   "cell_type": "code",
   "execution_count": 5,
   "metadata": {
    "collapsed": false
   },
   "outputs": [
    {
     "name": "stdout",
     "output_type": "stream",
     "text": [
      "( 0.0 , 1.0 , 0.0 )\n",
      "( 0.0 , 0.707106781187 , 0.707106781187 )\n",
      "( 0.0 , 0.707106781187 , -0.707106781187 )\n",
      "( 0.0 , 0.923879532511 , 0.382683432365 )\n",
      "( 0.0 , 0.382683432365 , 0.923879532511 )\n",
      "( 0.0 , 0.382683432365 , -0.923879532511 )\n",
      "( 0.0 , 0.923879532511 , -0.382683432365 )\n"
     ]
    }
   ],
   "source": [
    "for vertex in grid.leaf_view.entity_iterator(2):\n",
    "    corners = vertex.geometry.corners\n",
    "    if corners[0,0] == 0. and corners[1,0]>0:\n",
    "        print(\"( %s , %s , %s )\"% (corners[0,0], corners[1,0], corners[2,0]))"
   ]
  },
  {
   "cell_type": "markdown",
   "metadata": {},
   "source": [
    "# Using the Function Spaces"
   ]
  },
  {
   "cell_type": "markdown",
   "metadata": {},
   "source": [
    "First let's print the number of degrees of freedom (dofs) for each function space.\n",
    "\n",
    "For the ``pw_constant`` space, the dofs will correspond to triangles.\n",
    "\n",
    "For the ``pw_linear`` space, the dofs will correspond to vertices."
   ]
  },
  {
   "cell_type": "code",
   "execution_count": 6,
   "metadata": {
    "collapsed": false
   },
   "outputs": [
    {
     "name": "stdout",
     "output_type": "stream",
     "text": [
      "pw_constant dofs: 128\n",
      "pw_linear dofs: 66\n"
     ]
    }
   ],
   "source": [
    "print(\"pw_constant dofs: %s\" % pw_constant.global_dof_count)\n",
    "print(\"pw_linear dofs: %s\" % pw_linear.global_dof_count)"
   ]
  },
  {
   "cell_type": "markdown",
   "metadata": {},
   "source": [
    "The function spaces can be used to define operators. Each operator takes the domain, range and dual_to_range spaces as its inputs (in that order)."
   ]
  },
  {
   "cell_type": "code",
   "execution_count": 7,
   "metadata": {
    "collapsed": false
   },
   "outputs": [],
   "source": [
    "from bempp.operators.boundary.sparse import identity\n",
    "\n",
    "id_op = identity(pw_constant, pw_constant, pw_constant)"
   ]
  },
  {
   "cell_type": "markdown",
   "metadata": {},
   "source": [
    "We can create functions in each function space. First, let's create one from the function\n",
    "$$\n",
    "f(x,n) = x_1\n",
    "$$\n",
    "and, if we have ``gmsh`` installed, plot it."
   ]
  },
  {
   "cell_type": "code",
   "execution_count": 8,
   "metadata": {
    "collapsed": false
   },
   "outputs": [],
   "source": [
    "from bempp import GridFunction\n",
    "\n",
    "def my_func(x, n, domain_index, result):\n",
    "    result[0] = x[0]\n",
    "    \n",
    "my_grid_function = GridFunction(pw_constant, dual_space = pw_constant, fun = my_func, compex_data = True)\n",
    "my_grid_function.plot()"
   ]
  },
  {
   "cell_type": "markdown",
   "metadata": {},
   "source": [
    "Alternatively, we can create this function in the ``pw_linear`` function space."
   ]
  },
  {
   "cell_type": "code",
   "execution_count": 7,
   "metadata": {
    "collapsed": false
   },
   "outputs": [],
   "source": [
    "my_grid_function = GridFunction(pw_linear, dual_space = pw_linear, fun = my_func, compex_data = True)\n",
    "my_grid_function.plot()"
   ]
  },
  {
   "cell_type": "markdown",
   "metadata": {},
   "source": [
    "Next, we'll make a grid function from some data. In this example, we'll use some random numbers."
   ]
  },
  {
   "cell_type": "code",
   "execution_count": 10,
   "metadata": {
    "collapsed": false
   },
   "outputs": [],
   "source": [
    "import random\n",
    "fake_data = np.array([random.random() for i in range(pw_constant.global_dof_count)])\n",
    "\n",
    "my_grid_function = GridFunction(pw_constant, coefficients = fake_data)\n",
    "my_grid_function.plot()"
   ]
  },
  {
   "cell_type": "markdown",
   "metadata": {},
   "source": [
    "The data from a grid function can be exported to a file. The same command can be used to export a grid."
   ]
  },
  {
   "cell_type": "code",
   "execution_count": 18,
   "metadata": {
    "collapsed": false
   },
   "outputs": [],
   "source": [
    "from bempp import export\n",
    "\n",
    "export(grid_function = my_grid_function, file_name = \"random_data.msh\")\n",
    "export(grid=grid, file_name = \"sphere_grid.msh\")"
   ]
  },
  {
   "cell_type": "code",
   "execution_count": null,
   "metadata": {
    "collapsed": false
   },
   "outputs": [],
   "source": []
  }
 ],
 "metadata": {
  "kernelspec": {
   "display_name": "Python 2",
   "language": "python",
   "name": "python2"
  },
  "language_info": {
   "codemirror_mode": {
    "name": "ipython",
    "version": 2
   },
   "file_extension": ".py",
   "mimetype": "text/x-python",
   "name": "python",
   "nbconvert_exporter": "python",
   "pygments_lexer": "ipython2",
   "version": "2.7.10"
  }
 },
 "nbformat": 4,
 "nbformat_minor": 0
}
