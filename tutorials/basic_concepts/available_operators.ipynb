{
 "cells": [
  {
   "cell_type": "markdown",
   "metadata": {},
   "source": [
    "# Available operators in BEM++"
   ]
  },
  {
   "cell_type": "markdown",
   "metadata": {},
   "source": [
    "In the following we describe all operators available in BEM++."
   ]
  },
  {
   "cell_type": "markdown",
   "metadata": {},
   "source": [
    "## Scalar non-local operators (Laplace, modified Helmholtz and Helmholtz)"
   ]
  },
  {
   "cell_type": "markdown",
   "metadata": {},
   "source": [
    "Let $g(x,y)$ be a given Green's function. We define the single-layer potential operator and double layer-potential operator as follows:\n",
    "$$\n",
    "\\begin{align}\n",
    "[\\mathcal{S}\\phi](x) &= \\int_{\\Gamma}g(x,y)\\phi(y)ds(y),~x\\in\\mathbb{R}^3\\backslash\\Gamma\\nonumber\\\\\n",
    "[\\mathcal{K}\\phi](x) &= \\int_{\\Gamma}\\frac{\\partial g(x,y)}{\\partial\\nu(y)}\\phi(y)ds(y),~x\\in\\mathbb{R}^3\\backslash\\Gamma\n",
    "\\end{align}\n",
    "$$\n",
    "From this we derive the following boundary operators:\n",
    "\n",
    "* Single-Layer boundary operator: $[S\\phi](x) = \\int_{\\Gamma}g(x,y)\\phi(y)ds(y),~x\\in\\Gamma$\n",
    "* Double-Layer boundary operator: $[K\\phi](x) = \\int_{\\Gamma}\\frac{\\partial g(x,y)}{\\partial\\nu(y)}\\phi(y)ds(y),~x\\in\\Gamma$\n",
    "* Adjoint double layer boundary operator: $[K'\\phi](x) = \\int_{\\Gamma}\\frac{\\partial g(x,y)}{\\partial\\nu(x)}\\phi(y)ds(y),~x\\in\\Gamma$\n",
    "* Hypersingular boundary operator: $[D\\phi](x) = -\\frac{\\partial}{\\partial \\nu(x)}\\int_{\\Gamma}\\frac{\\partial g(x,y)}{\\partial\\nu(y)}\\phi(y)ds(y),~x\\in\\Gamma$\n",
    "\n",
    "The actual implementation of boundary operators in BEM++ are based on variational formulations. Hence, the implementation for example of the single-layer boundary operator is given by\n",
    "$$\n",
    "s(\\psi, \\phi) = \\int_{\\Gamma}\\overline{\\psi(x)}\\int_{\\Gamma}g(x,y)\\phi(y)ds(y)ds(x).\n",
    "$$\n",
    "For the hypersingular operator integration a slightly different formulation based on integration by parts of this variational form is used. Details can be found for example in the book [Numerical Approximation Methods for Elliptic Boundary Value Problems](http://www.numerik.math.tu-graz.ac.at/~steinbach/FEMBEMEng.htm) by O. Steinbach.\n",
    "\n",
    "The different types of boundary operators are dependent on the choice of the Green's function $g$.  In BEM++ the definitions are as follows.\n",
    "\n",
    "* Laplace ($-\\Delta u = 0$): \n",
    "$$$g(x,y) = \\frac{1}{4\\pi |x-y|}$$\n",
    "* Modified Helmholtz ($-\\Delta u+\\omega^2 u = 0$): \n",
    "$$g(x,y) = \\frac{e^{-\\omega |x-y|}}{4\\pi|x-y|}$$\n",
    "* Helmholtz ($-\\Delta u - k^2 u = 0$):\n",
    "$$\n",
    "g(x,y) = \\frac{e^{ik |x-y|}}{4\\pi|x-y|}\n",
    "$$\n",
    "\n",
    "The boundary operators are defined in the following modules:\n",
    "\n",
    "* Laplace: `bempp.api.operators.boundary.laplace`\n",
    "* Helmholtz: `bempp.api.operators.boundary.helmholtz`\n",
    "* Modified Helmholtz: `bempp.api.operators.boundary.modified_helmholtz`\n",
    "\n",
    "In each of these modules the names of the corrresponding functions are `single_layer`, `double_layer`, `adjoint_double_layer` and `hypersingular`.\n",
    "\n",
    "The packages for the corresponding potential operators are:\n",
    "\n",
    "* Laplace: `bempp.api.operators.potential.laplace`\n",
    "* Helmholtz: `bempp.api.operators.potential.helmholtz`\n",
    "* Modified Helmholtz: `bempp.api.operators.potential.modified_helmholtz`\n",
    "\n",
    "The names of the corresponding potentials in each module are `single_layer` and `double_layer`.\n",
    "\n",
    "For example, a Helmholtz hypersingular boundary operator is instantiated as\n",
    "\n",
    "    hyp = bempp.api.operators.boundary.helmholtz.hypersingular(domain, range, dual_to_range, k)\n",
    "    \n",
    "Here, $k$ is the wavenumber as defined above."
   ]
  },
  {
   "cell_type": "markdown",
   "metadata": {},
   "source": [
    "## Scalar, sparse operators"
   ]
  },
  {
   "cell_type": "markdown",
   "metadata": {},
   "source": [
    "BEM++ implements two sparse operators acting on scalar spaces, the identity operator $I$ and the Laplace-Beltrami operator $-\\Delta_{\\Gamma}$. They are given in their variational form as follows.\n",
    "\n",
    "* Identity Operator:\n",
    "$$\n",
    "    m(\\psi, \\phi) = \\int_{\\Gamma} \\overline{\\Psi(y)} \\phi(y)dy\n",
    "$$\n",
    "* Laplace-Beltrami Operator:\n",
    "$$\n",
    "    k(\\psi, \\phi) = \\int_{\\Gamma} \\overline{\\nabla_{\\Gamma}\\Psi(y)}\\cdot \\nabla_{\\Gamma}\\phi(y)dy\n",
    "$$\n",
    "\n",
    "The corresponding functions are `bempp.api.boundary.sparse.identity` and `bempp.api.boundary.sparse.laplace_beltrami`."
   ]
  },
  {
   "cell_type": "code",
   "execution_count": null,
   "metadata": {
    "collapsed": true
   },
   "outputs": [],
   "source": []
  }
 ],
 "metadata": {
  "kernelspec": {
   "display_name": "Python 2",
   "language": "python",
   "name": "python2"
  },
  "language_info": {
   "codemirror_mode": {
    "name": "ipython",
    "version": 2
   },
   "file_extension": ".py",
   "mimetype": "text/x-python",
   "name": "python",
   "nbconvert_exporter": "python",
   "pygments_lexer": "ipython2",
   "version": "2.7.10"
  }
 },
 "nbformat": 4,
 "nbformat_minor": 0
}
