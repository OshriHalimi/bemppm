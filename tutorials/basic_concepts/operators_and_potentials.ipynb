{
 "cells": [
  {
   "cell_type": "markdown",
   "metadata": {},
   "source": [
    "# Boundary operators, discrete boundary operators and potentials"
   ]
  },
  {
   "cell_type": "markdown",
   "metadata": {},
   "source": [
    "## Boundary operators"
   ]
  },
  {
   "cell_type": "markdown",
   "metadata": {},
   "source": [
    "The principle operator concept in BEM++ is that of a boundary operator. A boundary operator\n",
    "$$\n",
    "A: \\mathcal{D}\\rightarrow \\mathcal{R},\n",
    "$$\n",
    "is a mapping from a *domain* space $\\mathcal{D}$ into a *range* space $\\mathcal{R}$, where both $\\mathcal{D}$ and $\\mathcal{R}$ are defined on a given surface grid. BEM++ does not directly work with the boundary operator $A$ itself but with a weak form\n",
    "$$\n",
    "a(u, v) := \\int_{\\Gamma} [Au](\\mu)\\overline{v(\\mu)}d\\mu,\\quad u\\in\\mathcal{D},~v\\in\\mathcal{V}\n",
    "$$\n",
    "where $\\mathcal{V}$ is the dual space to the range space $\\mathcal{R}$ (in BEM++ we use the keyword *dual_to_range* for the space $\\mathcal{V}$).\n",
    "\n",
    "Boundary operators are defined in the subpackage `bempp.api.operators.boundary`. Apart from Maxwell operators all boundary operators take three space arguments: `domain`, `range`, and `dual_to_range`, which correspond to the spaces $\\mathcal{D}$, $\\mathcal{R}$ and $\\mathcal{V}$. The following code snippet defines the Laplace single-layer boundary operator on a space of piecewise constant functions. For simplicity, we choose all three space arguments to be identical."
   ]
  },
  {
   "cell_type": "code",
   "execution_count": 1,
   "metadata": {
    "collapsed": false
   },
   "outputs": [
    {
     "name": "stderr",
     "output_type": "stream",
     "text": [
      "INFO:BEMPP:Found Dolfin. FEM/BEM coupling with FEniCS enabled.\n"
     ]
    }
   ],
   "source": [
    "import bempp.api\n",
    "grid = bempp.api.shapes.regular_sphere(3)\n",
    "space = bempp.api.function_space(grid, \"DP\", 0)\n",
    "slp = bempp.api.operators.boundary.laplace.single_layer(space, space, space)"
   ]
  },
  {
   "cell_type": "markdown",
   "metadata": {},
   "source": [
    "It is important to note that the above code only sets up data structures. No discretisation of an operator is happening."
   ]
  },
  {
   "cell_type": "markdown",
   "metadata": {},
   "source": [
    "A complete algebra for operators is implemented. We can add operators, multiply them with scalars, and also multiply operators. Hence, the following operations are all valid."
   ]
  },
  {
   "cell_type": "code",
   "execution_count": 2,
   "metadata": {
    "collapsed": true
   },
   "outputs": [],
   "source": [
    "scaled_operator = 1.5 * slp\n",
    "sum_operator = slp + slp\n",
    "squared_operator = slp * slp"
   ]
  },
  {
   "cell_type": "markdown",
   "metadata": {},
   "source": [
    "Particularly, interesting is the last step. Assume that the matrix $S$ is the Galerkin discretisation of the `slp` operator with the given space of piecewise constant functions. Then the discretisation of `squared_operator` is computed as $SM^{-1}S$, where $M$ is the mass matrix of inner products between functions in the `dual_to_range` space and the `range` space. This is done automatically in BEM++ so that the user does not have to deal with the correct mass matrix operations manually. It allows a complete product algebra based on Galerkin discretisations. Note that if the mass matrix $M$ is not square, BEM++ internally solves a least-squares problem using a normal equation approach.\n",
    "\n",
    "Operators can also be multiplied with grid functions as shown in the following."
   ]
  },
  {
   "cell_type": "code",
   "execution_count": 7,
   "metadata": {
    "collapsed": false
   },
   "outputs": [],
   "source": [
    "# Create a grid function with unit coefficients.\n",
    "import numpy as np\n",
    "number_of_global_dofs = space.global_dof_count\n",
    "coeffs = np.ones(number_of_global_dofs)\n",
    "grid_fun = bempp.api.GridFunction(space, coefficients=coeffs)\n",
    "\n",
    "# Now apply the operator to the grid function\n",
    "\n",
    "result_fun = slp * grid_fun"
   ]
  },
  {
   "cell_type": "markdown",
   "metadata": {},
   "source": [
    "There is quite a lot going on internally for this operation as shown by the logging messages. First of all, in order to apply the operator `slp` to the grid function `grid_fun` BEM++ needs to assemble the operator. This is the first step, where an actual discretisation is computed. However, assembling the operator is not enough. To compute the coefficients $c_{new}$ of the grid funtion `result_fun` a mass matrix needs to be assembled since the coefficients of the result are computed as\n",
    "$$\n",
    "c_{new} = M^{-1}Sc,\n",
    "$$\n",
    "where $c$ is the vector of coefficients of `grid_fun`. Again, all this is handled automatically by BEM++."
   ]
  },
  {
   "cell_type": "markdown",
   "metadata": {},
   "source": [
    "# Discrete boundary operators"
   ]
  },
  {
   "cell_type": "markdown",
   "metadata": {},
   "source": [
    "Quite often it is necessary to have more direct access to discretisations of boundary operators. For this a boundary operator provides two methods `weak_form` and `strong_form`. Given the variational form $a(u,v)$ as defined above the discretisation of this variational form is the matrix $A_h$ defined by\n",
    "$$\n",
    "[A_h]_{i,j} = a(\\psi_i, \\phi_j),\n",
    "$$\n",
    "where the $\\psi_i$ are the basis functions of the test space $\\mathcal{V}$ and the $\\phi_j$ are the basis functions of the domain space $\\mathcal{D}$.\n",
    "\n",
    "Discrete boundary operators give access to the discretized matrix by providing routines to perform matrix-vector products and query the underlying matrix. The following gives an example."
   ]
  },
  {
   "cell_type": "code",
   "execution_count": 4,
   "metadata": {
    "collapsed": false
   },
   "outputs": [
    {
     "name": "stdout",
     "output_type": "stream",
     "text": [
      "Shape of the matrix: (512, 512)\n",
      "Type of the matrix: float64\n"
     ]
    }
   ],
   "source": [
    "slp_discrete = slp.weak_form()\n",
    "print(\"Shape of the matrix: {0}\".format(slp_discrete.shape))\n",
    "print(\"Type of the matrix: {0}\".format(slp_discrete.dtype))\n",
    "\n",
    "x = np.random.rand(slp_discrete.shape[1])\n",
    "y = slp_discrete * x"
   ]
  },
  {
   "cell_type": "markdown",
   "metadata": {},
   "source": [
    "Discrete boundary operators implement the `LinearOperator` protocol provided by recent `SciPy` versions. This means that the standard operations such as multiplications with scalars, addition, and multiplication are available.\n",
    "\n",
    "It is possible to convert a discrete boundary operator into a standard `NumPy` array. However, this is not recommended for larger problems. Depending on the discretisation mode a discrete operator may store a matrix only implicitly and not as a dense array. This then needs to be converted to a dense array by multiplication with an identity matrix. The following command turns a discrete boundary operator into a `NumPy` array."
   ]
  },
  {
   "cell_type": "code",
   "execution_count": 5,
   "metadata": {
    "collapsed": false
   },
   "outputs": [
    {
     "name": "stdout",
     "output_type": "stream",
     "text": [
      "[[  6.01598524e-04   1.59955449e-04   1.60210104e-04 ...,   3.15819132e-05\n",
      "    3.35583598e-05   3.43634489e-05]\n",
      " [  1.59811402e-04   6.20059370e-04   1.21665497e-04 ...,   3.14103888e-05\n",
      "    3.27991479e-05   3.39030174e-05]\n",
      " [  1.60210104e-04   1.21313696e-04   6.20059370e-04 ...,   3.33189379e-05\n",
      "    3.55234393e-05   3.65203446e-05]\n",
      " ..., \n",
      " [  3.15574627e-05   3.14105754e-05   3.33145031e-05 ...,   1.68183155e-03\n",
      "    4.05004969e-04   7.46497936e-04]\n",
      " [  3.35100884e-05   3.27972380e-05   3.54902004e-05 ...,   4.05005071e-04\n",
      "    1.68183155e-03   7.46490617e-04]\n",
      " [  3.43687317e-05   3.39000037e-05   3.65254704e-05 ...,   7.46498073e-04\n",
      "    7.46490752e-04   1.79722275e-03]]\n"
     ]
    }
   ],
   "source": [
    "slp_mat = bempp.api.as_matrix(slp_discrete)\n",
    "print(slp_mat)"
   ]
  },
  {
   "cell_type": "markdown",
   "metadata": {},
   "source": [
    "Above we have used the method `weak_form` to obtain the discretisation of a boundary operator. There is another method called `strong_form`. While the method `weak_form()` returns a discretisation of the variational form\n",
    "$a(u,v)$ the method `strong_form` returns a discretisation of the action of the original operator $A$ into the range space. Hence, the operators returned by the two methods are as follows:\n",
    "\n",
    "* weak_form: $[A_h]_{i,j} = a(\\psi_i, \\phi_j)$\n",
    "* strong_form: $M^{-1}A_h$\n",
    "\n",
    "Here, $M$ is the mass matrix between the `range` space and the `dual_to_range` space. We note that $M^{-1}$ is never formed explicitly but the corresponding system is solved internally by sparse LU decomposition, where the factorisation is only done once and then stored."
   ]
  },
  {
   "cell_type": "markdown",
   "metadata": {
    "collapsed": true
   },
   "source": [
    "## Potential operators"
   ]
  },
  {
   "cell_type": "markdown",
   "metadata": {},
   "source": [
    "A potential operator, as opposed to a boundary operator in BEM++, maps from a given space over the boundary grid $\\Gamma$ into a set of external evaluation points $x_j\\not\\in\\Gamma$. Let us demonstrate at a simple example how to evaluate the Laplace single-layer potential operator at certain points away from the boundary."
   ]
  },
  {
   "cell_type": "code",
   "execution_count": 11,
   "metadata": {
    "collapsed": false
   },
   "outputs": [
    {
     "name": "stdout",
     "output_type": "stream",
     "text": [
      "[[ 0.21547098  0.16933975]]\n"
     ]
    }
   ],
   "source": [
    "# Define two evaluation points\n",
    "evaluation_points = np.array([[2, 3],\n",
    "                              [1, 0],\n",
    "                              [4, 5]])\n",
    "\n",
    "# Create the Laplace single-layer potential operator\n",
    "slp_pot = bempp.api.operators.potential.laplace.single_layer(space, evaluation_points)\n",
    "potential_values = slp_pot * grid_fun\n",
    "print(potential_values)"
   ]
  },
  {
   "cell_type": "markdown",
   "metadata": {},
   "source": [
    "As opposed to boundary operators potentials are assembled immediately when they are instantiated. Potential operators implement a simple algebra. Hence, they allow multiplication with scalars and addition with other potentials. To apply a potential to a given surface density it can be multiplied with a grid function as shown above. The result is an array of potential values, in which each column consist of the components of the potential at a given evaluation point. In this case the potential is scalar. Hence, each column has only one entry."
   ]
  },
  {
   "cell_type": "code",
   "execution_count": null,
   "metadata": {
    "collapsed": true
   },
   "outputs": [],
   "source": []
  }
 ],
 "metadata": {
  "kernelspec": {
   "display_name": "Python 2",
   "language": "python",
   "name": "python2"
  },
  "language_info": {
   "codemirror_mode": {
    "name": "ipython",
    "version": 2
   },
   "file_extension": ".py",
   "mimetype": "text/x-python",
   "name": "python",
   "nbconvert_exporter": "python",
   "pygments_lexer": "ipython2",
   "version": "2.7.10"
  }
 },
 "nbformat": 4,
 "nbformat_minor": 0
}
