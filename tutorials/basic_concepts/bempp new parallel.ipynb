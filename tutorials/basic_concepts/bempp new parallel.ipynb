{
 "cells": [
  {
   "cell_type": "code",
   "execution_count": 1,
   "metadata": {
    "collapsed": false
   },
   "outputs": [],
   "source": [
    "%matplotlib nbagg"
   ]
  },
  {
   "cell_type": "code",
   "execution_count": 2,
   "metadata": {
    "collapsed": false
   },
   "outputs": [
    {
     "name": "stderr",
     "output_type": "stream",
     "text": [
      "INFO:BEMPP:Dolfin could not be imported. FEM/BEM coupling with FEniCS not available.\n"
     ]
    }
   ],
   "source": [
    "import bempp.api as bpp\n",
    "import bempp.core as core\n",
    "import bempp.api as api\n",
    "import numpy as np\n",
    "from bempp.core.grid import grid_from_sphere\n",
    "# from bempp.operators.boundary import sparse\n",
    "# from bempp.operators.boundary import laplace as boundary_laplace\n",
    "# from bempp.operators.potential import laplace as potential_laplace"
   ]
  },
  {
   "cell_type": "code",
   "execution_count": 3,
   "metadata": {
    "collapsed": true
   },
   "outputs": [],
   "source": [
    "import bempp"
   ]
  },
  {
   "cell_type": "code",
   "execution_count": 4,
   "metadata": {
    "collapsed": false
   },
   "outputs": [],
   "source": [
    "gridfile = bpp.file_interfaces.FileReader(file_name=\"../../meshes/sphere-h-0.1.msh\")\n",
    "grid = gridfile.grid"
   ]
  },
  {
   "cell_type": "code",
   "execution_count": 5,
   "metadata": {
    "collapsed": true
   },
   "outputs": [],
   "source": [
    "try:\n",
    "    from ipyparallel import Client\n",
    "except ImportError as exc:\n",
    "    from IPython.parallel import Client"
   ]
  },
  {
   "cell_type": "code",
   "execution_count": 6,
   "metadata": {
    "collapsed": false
   },
   "outputs": [],
   "source": [
    "rc = Client()\n",
    "rc.ids\n",
    "dview = rc[:] # use all engines"
   ]
  },
  {
   "cell_type": "code",
   "execution_count": 7,
   "metadata": {
    "collapsed": false
   },
   "outputs": [
    {
     "name": "stdout",
     "output_type": "stream",
     "text": [
      "importing bempp on engine(s)\n",
      "importing bempp.api on engine(s)\n",
      "importing bempp.core on engine(s)\n",
      "importing numpy on engine(s)\n"
     ]
    }
   ],
   "source": [
    "with dview.sync_imports():\n",
    "    import bempp\n",
    "    import bempp.api\n",
    "    import bempp.core\n",
    "    import numpy"
   ]
  },
  {
   "cell_type": "code",
   "execution_count": 8,
   "metadata": {
    "collapsed": false
   },
   "outputs": [
    {
     "data": {
      "text/plain": [
       "<AsyncResult: finished>"
      ]
     },
     "execution_count": 8,
     "metadata": {},
     "output_type": "execute_result"
    }
   ],
   "source": [
    "elements = grid.leaf_view.elements\n",
    "vertices = grid.leaf_view.vertices\n",
    "domain_indecies = grid.leaf_view.domain_indices\n",
    "dview.push((dict(elements=elements, vertices=vertices, domain_indecies=domain_indecies)))"
   ]
  },
  {
   "cell_type": "code",
   "execution_count": 9,
   "metadata": {
    "collapsed": false
   },
   "outputs": [],
   "source": [
    "%%px --local\n",
    "newgrid = bempp.api.grid_from_element_data(vertices, elements, domain_indecies)\n",
    "piecewise_const_space = bempp.api.function_space(newgrid,\"DP\",0,)\n",
    "piecewise_lin_space = bempp.api.function_space(newgrid,\"P\",1)"
   ]
  },
  {
   "cell_type": "code",
   "execution_count": 10,
   "metadata": {
    "collapsed": true
   },
   "outputs": [],
   "source": [
    "%%px --local \n",
    "def dirichlet_data(x,n,domain_index,result):\n",
    "    result[0] = numpy.log(((x[0]-.9)**2+x[1]**2+x[2]**2)**(0.5))"
   ]
  },
  {
   "cell_type": "code",
   "execution_count": 11,
   "metadata": {
    "collapsed": false
   },
   "outputs": [
    {
     "name": "stderr",
     "output_type": "stream",
     "text": [
      "INFO:BEMPP:Operator: IDENTITY. START ASSEMBLY. Dimensions: (1287,2570). Assembly Type: sparse\n",
      "INFO:BEMPP:Operator: IDENTITY. FINISHED ASSEMBLY. Time: 0.01835489273071289 seconds\n"
     ]
    }
   ],
   "source": [
    "%%px --local\n",
    "from bempp.api import GridFunction\n",
    "dirichlet_fun = GridFunction(piecewise_lin_space, dual_space=piecewise_const_space, fun=dirichlet_data)"
   ]
  },
  {
   "cell_type": "code",
   "execution_count": 12,
   "metadata": {
    "collapsed": false
   },
   "outputs": [],
   "source": [
    "%%px --local\n",
    "idp = bempp.api.operators.boundary.sparse.identity(piecewise_lin_space, piecewise_lin_space, piecewise_const_space)\n",
    "dlp = bempp.api.operators.boundary.laplace.double_layer(piecewise_lin_space, piecewise_lin_space, piecewise_const_space)\n",
    "slp = bempp.api.operators.boundary.laplace.single_layer(piecewise_const_space, piecewise_lin_space, piecewise_const_space)"
   ]
  },
  {
   "cell_type": "code",
   "execution_count": 13,
   "metadata": {
    "collapsed": false
   },
   "outputs": [
    {
     "name": "stderr",
     "output_type": "stream",
     "text": [
      "INFO:BEMPP:Operator: SLP. START ASSEMBLY. Dimensions: (2570,2570). Assembly Type: dense\n",
      "INFO:BEMPP:Operator: SLP. FINISHED ASSEMBLY. Time: 1.141158103942871 seconds\n"
     ]
    }
   ],
   "source": [
    "bempp.api.global_parameters.assembly.boundary_operator_assembly_type = 'dense'\n",
    "operator = slp\n",
    "result = bempp.api.assemble_dense_block(operator, bempp.api.ALL, bempp.api.ALL, operator.domain, operator.dual_to_range)\n",
    "actual = bempp.api.as_matrix(result)\n",
    "expected = bempp.api.as_matrix(operator.weak_form())\n",
    "numpy.testing.assert_allclose(actual, expected)"
   ]
  },
  {
   "cell_type": "code",
   "execution_count": 14,
   "metadata": {
    "collapsed": false
   },
   "outputs": [],
   "source": [
    "from bempp.api.utils.parallel import calculateblocks,gatherresults"
   ]
  },
  {
   "cell_type": "code",
   "execution_count": 15,
   "metadata": {
    "collapsed": false
   },
   "outputs": [],
   "source": [
    "@dview.parallel(block=True)\n",
    "def my_run_in_parallel(limits):\n",
    "    global actual\n",
    "    bempp.api.global_parameters.assembly.boundary_operator_assembly_type = 'dense'\n",
    "    actual = bempp.api.as_matrix(bempp.api.assemble_dense_block(operator,\n",
    "                                                                limits[0],\n",
    "                                                                limits[1],\n",
    "                                                                operator.domain,\n",
    "                                                                operator.dual_to_range))"
   ]
  },
  {
   "cell_type": "code",
   "execution_count": 16,
   "metadata": {
    "collapsed": true
   },
   "outputs": [],
   "source": [
    "def run_single(operator):\n",
    "    result = bempp.api.assemble_dense_block(operator,\n",
    "                                            bempp.api.ALL,\n",
    "                                            bempp.api.ALL,\n",
    "                                            operator.domain,\n",
    "                                            operator.dual_to_range)\n",
    "    actual = bempp.api.as_matrix(result)\n",
    "    expected = bempp.api.as_matrix(operator.weak_form())\n",
    "    return expected"
   ]
  },
  {
   "cell_type": "code",
   "execution_count": 17,
   "metadata": {
    "collapsed": true
   },
   "outputs": [],
   "source": [
    "%%px --local\n",
    "operator = dlp"
   ]
  },
  {
   "cell_type": "code",
   "execution_count": 18,
   "metadata": {
    "collapsed": false
   },
   "outputs": [
    {
     "name": "stderr",
     "output_type": "stream",
     "text": [
      "INFO:BEMPP:Operator: DLP. START ASSEMBLY. Dimensions: (1287,2570). Assembly Type: dense\n",
      "INFO:BEMPP:Operator: DLP. FINISHED ASSEMBLY. Time: 1.5182311534881592 seconds\n"
     ]
    }
   ],
   "source": [
    "chunks, nrows, ncols = calculateblocks(operator.dual_to_range.global_dof_count,\n",
    "                                       operator.domain.global_dof_count,\n",
    "                                       len(dview))\n",
    "my_run_in_parallel.map(chunks)\n",
    "gatheredresults = gatherresults(dview, 'actual', nrows, ncols)\n",
    "expected = run_single(operator)\n",
    "\n",
    "expected2 = bempp.api.as_matrix(operator.weak_form())\n",
    "numpy.testing.assert_allclose(expected, expected2)\n",
    "numpy.testing.assert_allclose(gatheredresults, expected)"
   ]
  },
  {
   "cell_type": "code",
   "execution_count": null,
   "metadata": {
    "collapsed": true
   },
   "outputs": [],
   "source": []
  }
 ],
 "metadata": {
  "kernelspec": {
   "display_name": "BEM++",
   "language": "python",
   "name": "bempp"
  },
  "language_info": {
   "codemirror_mode": {
    "name": "ipython",
    "version": 3
   },
   "file_extension": ".py",
   "mimetype": "text/x-python",
   "name": "python",
   "nbconvert_exporter": "python",
   "pygments_lexer": "ipython3",
   "version": "3.4.3"
  }
 },
 "nbformat": 4,
 "nbformat_minor": 0
}
