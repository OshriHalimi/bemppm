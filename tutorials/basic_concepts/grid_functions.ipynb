{
 "cells": [
  {
   "cell_type": "markdown",
   "metadata": {},
   "source": [
    "# Grid Functions"
   ]
  },
  {
   "cell_type": "markdown",
   "metadata": {},
   "source": [
    "In BEM++ data on a given grid is represented as a `GridFunction` object. A `GridFunction` consists of a set of basis function coefficients and a corresponding `Space` object. In the following we will discuss the different ways of creating a grid function in BEM++."
   ]
  },
  {
   "cell_type": "markdown",
   "metadata": {},
   "source": [
    "# Initializing a grid function from a Python callable"
   ]
  },
  {
   "cell_type": "markdown",
   "metadata": {},
   "source": [
    "Often, in applications we are given an analytic expression for boundary data. This is for example the case in many  acoustic scattering problems, where a typical scenario is that the incoming data is a plane wave or a sound source. The following code defines a wave travelling with unit wavenumber along the x-axis in the positive direction."
   ]
  },
  {
   "cell_type": "code",
   "execution_count": 2,
   "metadata": {
    "collapsed": true
   },
   "outputs": [],
   "source": [
    "import numpy as np\n",
    "def fun(x, normal, domain_index, result):    \n",
    "    result[0] = np.exp(1j * x[0])"
   ]
  },
  {
   "cell_type": "markdown",
   "metadata": {},
   "source": [
    "A valid Python callable always has the same interface as shown above. The first argument `x` is the coordinate of an evaluation point. The second argument `normal` is the normal direction at the evaluation point. The third one is the `domain_index`. This corresponds to the physical id in Gmsh and can be used to assign different boundary data to different parts of the grid. The last argument `result` is the variable that stores the value of the callable. It is a numpy array with as many components as the basis functions of the underlying space have. If a scalar space is given then `result` only has one component.\n",
    "\n",
    "In order to discretise this callable we need to define a suitable space object. Below we define a space of continuous, piecewise linear functions on a spherical grid."
   ]
  },
  {
   "cell_type": "code",
   "execution_count": null,
   "metadata": {
    "collapsed": false
   },
   "outputs": [],
   "source": [
    "import bempp.api\n",
    "grid = bempp.api.shapes.regular_sphere(5)\n",
    "space = bempp.api.function_space(grid, \"DP\", 1)"
   ]
  },
  {
   "cell_type": "markdown",
   "metadata": {},
   "source": [
    "The next command now discretizes the Python callable by projecting it onto the space."
   ]
  },
  {
   "cell_type": "code",
   "execution_count": null,
   "metadata": {
    "collapsed": false
   },
   "outputs": [],
   "source": [
    "grid_fun = bempp.api.GridFunction(space, fun=fun)"
   ]
  },
  {
   "cell_type": "markdown",
   "metadata": {},
   "source": [
    "There is quite a lot going on now as shown by the output logging messages. Before we describe in detail what is happening we want to visualize the `grid_fun` object. This can be done with the command\n",
    "\n",
    "    grid_fun.plot()\n",
    "    \n",
    "This command opens `Gmsh` externally as a viewer to show the `GridFunction` object. The results should look like the following. <img src=\"https://raw.githubusercontent.com/bempp/bempp/development/tutorials/basic_concepts/grid_fun.png\">"
   ]
  },
  {
   "cell_type": "markdown",
   "metadata": {},
   "source": [
    "By default the real part of `grid_fun` is plotted. There are more advanced functions to control this behavior. "
   ]
  },
  {
   "cell_type": "markdown",
   "metadata": {},
   "source": [
    "Let us take a closer look at what happens in the initialization of this GridFunction. Denote the global basis functions of the space by $\\Psi_j$, $j=1,\\dots,N$. The computation of the grid function consists of two steps.\n",
    "\n",
    "1. Compute the projection coefficients $p_j = \\int_{\\Gamma}\\overline{\\Psi_j}(\\xi)f(\\xi)d\\xi$, where $f$ is the analytic function to be converted into a grid function and $\\Gamma$ is the surface defined by the grid.\n",
    "2. Compute the basis coefficients $c_j$ from $Mc=p$, where $M$ is the mass matrix defined by $M_{ij} = \\int_{\\Gamma}\\overline{\\Psi_i}(\\xi)\\Psi_j(\\xi)d\\xi$.\n",
    "\n",
    "This is an orthogonal $L^2(\\Gamma)$-projection onto the basis given by the $\\Psi_j$."
   ]
  },
  {
   "cell_type": "markdown",
   "metadata": {},
   "source": [
    "## Initializing a grid function from coefficients or projections"
   ]
  },
  {
   "cell_type": "markdown",
   "metadata": {},
   "source": [
    "Instead of an analytic expression we can initialize a `GridFunction` object also from a vector `c` of coefficients or a vector `p` of projections. This can be done as follows.\n",
    "\n",
    "    grid_fun = GridFunction(space, coefficients=c)\n",
    "    grid_fun = GridFunction(space, projections=p, dual_space=dual)\n",
    "    \n",
    "The argument dual_space gives the space with which the projection coefficients were computed. The parameter is optional and if it is not given then `space == dual_space` is assumed (i.e. $L^2(\\Gamma)$-projection)."
   ]
  },
  {
   "cell_type": "code",
   "execution_count": null,
   "metadata": {
    "collapsed": true
   },
   "outputs": [],
   "source": []
  }
 ],
 "metadata": {
  "kernelspec": {
   "display_name": "Python 2",
   "language": "python",
   "name": "python2"
  },
  "language_info": {
   "codemirror_mode": {
    "name": "ipython",
    "version": 2
   },
   "file_extension": ".py",
   "mimetype": "text/x-python",
   "name": "python",
   "nbconvert_exporter": "python",
   "pygments_lexer": "ipython2",
   "version": "2.7.10"
  }
 },
 "nbformat": 4,
 "nbformat_minor": 0
}
